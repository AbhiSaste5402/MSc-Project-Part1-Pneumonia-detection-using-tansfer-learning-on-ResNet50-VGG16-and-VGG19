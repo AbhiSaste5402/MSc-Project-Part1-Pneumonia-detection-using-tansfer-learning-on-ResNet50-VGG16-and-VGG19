{
  "cells": [
    {
      "cell_type": "code",
      "execution_count": null,
      "metadata": {
        "id": "f3qqvJHCq09h"
      },
      "outputs": [],
      "source": [
        "from keras.layers import Input, Lambda, Dense, Flatten\n",
        "from keras.models import Model, load_model\n",
        "from keras.applications.vgg16 import VGG16\n",
        "from keras.applications.vgg16 import preprocess_input\n",
        "from keras.preprocessing import image\n",
        "from keras.preprocessing.image import ImageDataGenerator\n",
        "from keras.models import Sequential\n",
        "import numpy as np\n",
        "from glob import glob\n",
        "import matplotlib.pyplot as plt"
      ]
    },
    {
      "cell_type": "code",
      "execution_count": null,
      "metadata": {
        "colab": {
          "base_uri": "https://localhost:8080/"
        },
        "id": "meEaq-ODrCFL",
        "outputId": "646bc00c-1e77-4007-8ee4-eab6e7bd771f"
      },
      "outputs": [
        {
          "output_type": "stream",
          "name": "stdout",
          "text": [
            "Mounted at /content/drive\n"
          ]
        }
      ],
      "source": [
        "from google.colab import drive\n",
        "drive.mount('/content/drive')"
      ]
    },
    {
      "cell_type": "code",
      "execution_count": null,
      "metadata": {
        "id": "Ejy5krmcrEgb"
      },
      "outputs": [],
      "source": [
        "IMAGE_SIZE = [224, 224]\n",
        "train_path = '/content/drive/MyDrive/chest_xray/train'\n",
        "valid_path = '/content/drive/MyDrive/chest_xray/test'"
      ]
    },
    {
      "cell_type": "code",
      "execution_count": null,
      "metadata": {
        "colab": {
          "base_uri": "https://localhost:8080/"
        },
        "id": "_RL3wJCPrGkz",
        "outputId": "08d1e5a9-c3fa-42d8-8c7d-05336077db65"
      },
      "outputs": [
        {
          "output_type": "stream",
          "name": "stdout",
          "text": [
            "Downloading data from https://storage.googleapis.com/tensorflow/keras-applications/vgg16/vgg16_weights_tf_dim_ordering_tf_kernels_notop.h5\n",
            "58892288/58889256 [==============================] - 0s 0us/step\n",
            "58900480/58889256 [==============================] - 0s 0us/step\n"
          ]
        }
      ],
      "source": [
        "vgg = VGG16(input_shape=IMAGE_SIZE + [3], weights='imagenet', include_top=False)"
      ]
    },
    {
      "cell_type": "code",
      "execution_count": null,
      "metadata": {
        "id": "37zuNAmrrIjJ"
      },
      "outputs": [],
      "source": [
        "for layer in vgg.layers:\n",
        "    layer.trainable = False"
      ]
    },
    {
      "cell_type": "code",
      "execution_count": null,
      "metadata": {
        "id": "cbUBvdOHrKW5"
      },
      "outputs": [],
      "source": [
        "folders = glob('/content/drive/MyDrive/chest_xray/train/*')"
      ]
    },
    {
      "cell_type": "code",
      "execution_count": null,
      "metadata": {
        "id": "HHvKPmMUrL_5"
      },
      "outputs": [],
      "source": [
        "x = Flatten()(vgg.output)"
      ]
    },
    {
      "cell_type": "code",
      "execution_count": null,
      "metadata": {
        "id": "sMU_eMUurOnG"
      },
      "outputs": [],
      "source": [
        "prediction = Dense(len(folders), activation='softmax')(x)\n",
        " \n",
        "# creating a model object\n",
        "model = Model(inputs=vgg.input, outputs=prediction)"
      ]
    },
    {
      "cell_type": "code",
      "execution_count": null,
      "metadata": {
        "colab": {
          "base_uri": "https://localhost:8080/"
        },
        "id": "5G8rfML3rQgG",
        "outputId": "2bda5619-6d4f-4a48-a406-559ca3dab937"
      },
      "outputs": [
        {
          "output_type": "stream",
          "name": "stdout",
          "text": [
            "Model: \"model\"\n",
            "_________________________________________________________________\n",
            " Layer (type)                Output Shape              Param #   \n",
            "=================================================================\n",
            " input_1 (InputLayer)        [(None, 224, 224, 3)]     0         \n",
            "                                                                 \n",
            " block1_conv1 (Conv2D)       (None, 224, 224, 64)      1792      \n",
            "                                                                 \n",
            " block1_conv2 (Conv2D)       (None, 224, 224, 64)      36928     \n",
            "                                                                 \n",
            " block1_pool (MaxPooling2D)  (None, 112, 112, 64)      0         \n",
            "                                                                 \n",
            " block2_conv1 (Conv2D)       (None, 112, 112, 128)     73856     \n",
            "                                                                 \n",
            " block2_conv2 (Conv2D)       (None, 112, 112, 128)     147584    \n",
            "                                                                 \n",
            " block2_pool (MaxPooling2D)  (None, 56, 56, 128)       0         \n",
            "                                                                 \n",
            " block3_conv1 (Conv2D)       (None, 56, 56, 256)       295168    \n",
            "                                                                 \n",
            " block3_conv2 (Conv2D)       (None, 56, 56, 256)       590080    \n",
            "                                                                 \n",
            " block3_conv3 (Conv2D)       (None, 56, 56, 256)       590080    \n",
            "                                                                 \n",
            " block3_pool (MaxPooling2D)  (None, 28, 28, 256)       0         \n",
            "                                                                 \n",
            " block4_conv1 (Conv2D)       (None, 28, 28, 512)       1180160   \n",
            "                                                                 \n",
            " block4_conv2 (Conv2D)       (None, 28, 28, 512)       2359808   \n",
            "                                                                 \n",
            " block4_conv3 (Conv2D)       (None, 28, 28, 512)       2359808   \n",
            "                                                                 \n",
            " block4_pool (MaxPooling2D)  (None, 14, 14, 512)       0         \n",
            "                                                                 \n",
            " block5_conv1 (Conv2D)       (None, 14, 14, 512)       2359808   \n",
            "                                                                 \n",
            " block5_conv2 (Conv2D)       (None, 14, 14, 512)       2359808   \n",
            "                                                                 \n",
            " block5_conv3 (Conv2D)       (None, 14, 14, 512)       2359808   \n",
            "                                                                 \n",
            " block5_pool (MaxPooling2D)  (None, 7, 7, 512)         0         \n",
            "                                                                 \n",
            " flatten (Flatten)           (None, 25088)             0         \n",
            "                                                                 \n",
            " dense (Dense)               (None, 2)                 50178     \n",
            "                                                                 \n",
            "=================================================================\n",
            "Total params: 14,764,866\n",
            "Trainable params: 50,178\n",
            "Non-trainable params: 14,714,688\n",
            "_________________________________________________________________\n"
          ]
        }
      ],
      "source": [
        "model.summary()"
      ]
    },
    {
      "cell_type": "code",
      "execution_count": null,
      "metadata": {
        "id": "76pZ1TRMrTGW"
      },
      "outputs": [],
      "source": [
        "model.compile(\n",
        "  loss='categorical_crossentropy',\n",
        "  optimizer='adam',\n",
        "  metrics=['accuracy']\n",
        ")"
      ]
    },
    {
      "cell_type": "code",
      "execution_count": null,
      "metadata": {
        "colab": {
          "base_uri": "https://localhost:8080/"
        },
        "id": "fp2RAvXGrTc1",
        "outputId": "754d24d3-bf56-4f98-8baa-46714ce6975f"
      },
      "outputs": [
        {
          "output_type": "stream",
          "name": "stdout",
          "text": [
            "Found 5216 images belonging to 2 classes.\n",
            "Found 5216 images belonging to 2 classes.\n",
            "Found 5216 images belonging to 2 classes.\n",
            "Found 5216 images belonging to 2 classes.\n",
            "Found 624 images belonging to 2 classes.\n"
          ]
        }
      ],
      "source": [
        "# Use the Image Data Generator to import the images from the dataset\n",
        "from keras.preprocessing.image import ImageDataGenerator\n",
        " \n",
        "train_datagen = ImageDataGenerator(rescale = 1./255,\n",
        "                                   shear_range = 0.2,\n",
        "                                   zoom_range = 0.2,\n",
        "                                   horizontal_flip = True)\n",
        " \n",
        "test_datagen = ImageDataGenerator(rescale = 1./255)\n",
        " \n",
        "# providing the same target size as initialied for the image size\n",
        "training_set = train_datagen.flow_from_directory('/content/drive/MyDrive/chest_xray/train',\n",
        "                                                 target_size = (224, 224),\n",
        "                                                 batch_size = 32,\n",
        "                                                 class_mode = 'categorical')\n",
        " \n",
        "\n",
        " \n",
        "test_set = test_datagen.flow_from_directory('/content/drive/MyDrive/chest_xray/test',\n",
        "                                            target_size = (224, 224),\n",
        "                                            batch_size = 32,\n",
        "                                            class_mode = 'categorical')"
      ]
    },
    {
      "cell_type": "code",
      "execution_count": null,
      "metadata": {
        "colab": {
          "background_save": true,
          "base_uri": "https://localhost:8080/"
        },
        "id": "Qt6PMOGnrTfP",
        "outputId": "2aef1810-04ad-44e4-8edb-66fad744a2dd"
      },
      "outputs": [
        {
          "name": "stdout",
          "output_type": "stream",
          "text": [
            "Epoch 1/20\n",
            "163/163 [==============================] - 3113s 19s/step - loss: 0.2207 - accuracy: 0.9116 - val_loss: 0.2322 - val_accuracy: 0.9119\n",
            "Epoch 2/20\n",
            "163/163 [==============================] - 3120s 19s/step - loss: 0.1031 - accuracy: 0.9615 - val_loss: 0.2332 - val_accuracy: 0.9151\n",
            "Epoch 3/20\n",
            "163/163 [==============================] - 3062s 19s/step - loss: 0.0958 - accuracy: 0.9653 - val_loss: 0.3426 - val_accuracy: 0.8942\n",
            "Epoch 4/20\n",
            "163/163 [==============================] - 3057s 19s/step - loss: 0.0841 - accuracy: 0.9672 - val_loss: 0.4282 - val_accuracy: 0.8814\n",
            "Epoch 5/20\n",
            "163/163 [==============================] - 3055s 19s/step - loss: 0.0745 - accuracy: 0.9701 - val_loss: 0.3480 - val_accuracy: 0.9022\n",
            "Epoch 6/20\n",
            "163/163 [==============================] - 3053s 19s/step - loss: 0.0705 - accuracy: 0.9747 - val_loss: 0.4851 - val_accuracy: 0.8830\n",
            "Epoch 7/20\n",
            "163/163 [==============================] - 3055s 19s/step - loss: 0.0742 - accuracy: 0.9758 - val_loss: 0.3776 - val_accuracy: 0.9071\n",
            "Epoch 8/20\n",
            "163/163 [==============================] - 3075s 19s/step - loss: 0.0762 - accuracy: 0.9712 - val_loss: 0.2874 - val_accuracy: 0.9183\n",
            "Epoch 9/20\n",
            "163/163 [==============================] - 3067s 19s/step - loss: 0.0574 - accuracy: 0.9799 - val_loss: 0.3603 - val_accuracy: 0.9071\n",
            "Epoch 10/20\n",
            "163/163 [==============================] - 3056s 19s/step - loss: 0.0772 - accuracy: 0.9714 - val_loss: 0.4241 - val_accuracy: 0.9006\n",
            "Epoch 11/20\n",
            "163/163 [==============================] - 3047s 19s/step - loss: 0.0616 - accuracy: 0.9783 - val_loss: 0.2718 - val_accuracy: 0.9247\n",
            "Epoch 12/20\n",
            "163/163 [==============================] - 3048s 19s/step - loss: 0.0574 - accuracy: 0.9781 - val_loss: 0.4194 - val_accuracy: 0.8974\n",
            "Epoch 13/20\n",
            "163/163 [==============================] - 3055s 19s/step - loss: 0.0675 - accuracy: 0.9718 - val_loss: 0.3793 - val_accuracy: 0.9054\n",
            "Epoch 14/20\n",
            "163/163 [==============================] - 3122s 19s/step - loss: 0.0600 - accuracy: 0.9778 - val_loss: 0.5713 - val_accuracy: 0.8798\n",
            "Epoch 15/20\n",
            "163/163 [==============================] - 3063s 19s/step - loss: 0.0645 - accuracy: 0.9770 - val_loss: 0.3150 - val_accuracy: 0.9151\n",
            "Epoch 16/20\n",
            "163/163 [==============================] - 3058s 19s/step - loss: 0.0517 - accuracy: 0.9793 - val_loss: 0.3233 - val_accuracy: 0.9135\n",
            "Epoch 17/20\n",
            "163/163 [==============================] - 3063s 19s/step - loss: 0.0566 - accuracy: 0.9774 - val_loss: 0.2754 - val_accuracy: 0.9199\n",
            "Epoch 18/20\n",
            "163/163 [==============================] - 3052s 19s/step - loss: 0.0689 - accuracy: 0.9747 - val_loss: 0.5166 - val_accuracy: 0.8942\n",
            "Epoch 19/20\n",
            "163/163 [==============================] - 3048s 19s/step - loss: 0.0548 - accuracy: 0.9808 - val_loss: 0.3922 - val_accuracy: 0.9231\n",
            "Epoch 20/20\n",
            "163/163 [==============================] - 3047s 19s/step - loss: 0.0529 - accuracy: 0.9816 - val_loss: 0.3684 - val_accuracy: 0.9054\n"
          ]
        }
      ],
      "source": [
        "# fiting the model\n",
        " \n",
        "r = model.fit(\n",
        "  training_set,\n",
        "  validation_data=test_set,\n",
        "  epochs=20,\n",
        "  steps_per_epoch=len(training_set),\n",
        "  validation_steps=len(test_set)\n",
        ")"
      ]
    },
    {
      "cell_type": "code",
      "source": [
        "import tensorflow as tf\n",
        "from keras.models import load_model\n",
        "model.save('vgg16pneumonia.h5')"
      ],
      "metadata": {
        "id": "QnxKahba-2cR"
      },
      "execution_count": null,
      "outputs": []
    }
  ],
  "metadata": {
    "accelerator": "TPU",
    "colab": {
      "background_execution": "on",
      "provenance": [],
      "authorship_tag": "ABX9TyPABRpqulW8wRs2LGcpNZXi"
    },
    "gpuClass": "standard",
    "kernelspec": {
      "display_name": "Python 3",
      "name": "python3"
    },
    "language_info": {
      "name": "python"
    }
  },
  "nbformat": 4,
  "nbformat_minor": 0
}