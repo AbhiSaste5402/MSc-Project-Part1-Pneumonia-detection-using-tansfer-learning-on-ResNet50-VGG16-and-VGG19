{
  "nbformat": 4,
  "nbformat_minor": 0,
  "metadata": {
    "colab": {
      "provenance": [],
      "authorship_tag": "ABX9TyPfuRLB1lUUHQkDPWsz3hIe"
    },
    "kernelspec": {
      "name": "python3",
      "display_name": "Python 3"
    },
    "language_info": {
      "name": "python"
    }
  },
  "cells": [
    {
      "cell_type": "markdown",
      "source": [
        "**Pneumonia** **Detection** **on** **ResNet50**"
      ],
      "metadata": {
        "id": "e5oMOsHjKdeG"
      }
    },
    {
      "cell_type": "markdown",
      "source": [
        "loading the trained model"
      ],
      "metadata": {
        "id": "TwbCCRY4Kjh_"
      }
    },
    {
      "cell_type": "code",
      "source": [
        "from google.colab import drive\n",
        "drive.mount('/content/drive')"
      ],
      "metadata": {
        "colab": {
          "base_uri": "https://localhost:8080/"
        },
        "id": "HjlHfOpeK7-W",
        "outputId": "4dd0193f-7558-46de-abc6-1975434e73b9"
      },
      "execution_count": 2,
      "outputs": [
        {
          "output_type": "stream",
          "name": "stdout",
          "text": [
            "Mounted at /content/drive\n"
          ]
        }
      ]
    },
    {
      "cell_type": "code",
      "source": [
        "from keras.models import load_model\n",
        "from keras.preprocessing import image\n",
        "from keras.applications.vgg16 import preprocess_input\n",
        "import numpy as np\n"
      ],
      "metadata": {
        "id": "rSvRnc8cLIOf"
      },
      "execution_count": 4,
      "outputs": []
    },
    {
      "cell_type": "code",
      "execution_count": 5,
      "metadata": {
        "id": "X1si9blP-7H-"
      },
      "outputs": [],
      "source": [
        "pneumonia=load_model('/content/drive/MyDrive/chest_xray.h5')"
      ]
    },
    {
      "cell_type": "markdown",
      "source": [
        "Loading the image"
      ],
      "metadata": {
        "id": "0kOd4OI5KqAH"
      }
    },
    {
      "cell_type": "code",
      "source": [
        "img=image.load_img('/content/drive/MyDrive/chest_xray/val/NORMAL/NORMAL2-IM-1437-0001.jpeg',target_size=(224,224))"
      ],
      "metadata": {
        "id": "DXGLSn3nKP5Q"
      },
      "execution_count": 6,
      "outputs": []
    },
    {
      "cell_type": "markdown",
      "source": [
        "Processing and predicting the image"
      ],
      "metadata": {
        "id": "Yi3SvXdqKuiw"
      }
    },
    {
      "cell_type": "code",
      "source": [
        "x=image.img_to_array(img)\n",
        "x=np.expand_dims(x, axis=0)\n",
        "img_data=preprocess_input(x)\n",
        "classes=pneumonia.predict(img_data)"
      ],
      "metadata": {
        "id": "MayXY81WKSCf"
      },
      "execution_count": 7,
      "outputs": []
    },
    {
      "cell_type": "code",
      "source": [
        "result=int(classes[0][0])"
      ],
      "metadata": {
        "id": "M66gC4EFKSEo"
      },
      "execution_count": 8,
      "outputs": []
    },
    {
      "cell_type": "code",
      "source": [
        "if result==0:\n",
        "    print(\"Its pneumonia\")\n",
        "else:\n",
        "    print(\"The result is healthy\")\n"
      ],
      "metadata": {
        "colab": {
          "base_uri": "https://localhost:8080/"
        },
        "id": "Ol1rft9BKSGu",
        "outputId": "658142e8-e262-4d3d-f985-8ab897c6ce67"
      },
      "execution_count": 9,
      "outputs": [
        {
          "output_type": "stream",
          "name": "stdout",
          "text": [
            "The result is healthy\n"
          ]
        }
      ]
    }
  ]
}